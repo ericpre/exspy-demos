{
 "cells": [
  {
   "cell_type": "markdown",
   "id": "7dac132b-60e2-4694-931c-08c7b37c471e",
   "metadata": {
    "collapsed": true,
    "jupyter": {
     "outputs_hidden": true
    }
   },
   "source": [
    "# Making publication quality elemental maps"
   ]
  },
  {
   "cell_type": "markdown",
   "id": "defda1b5-7768-4335-8fd2-3025199d629b",
   "metadata": {},
   "source": [
    "In this notebook we show how data EELS (or EDS) data processed with `HyperSpy` and `eXSpy` can be made into high quality figures and plots. We utilize the python library `matplotlib`, which we use to make customized figures for use in presentations or journal publications.\n",
    "\n",
    "The Notebook example here utilizes EELS data processed using the `EELS_elemental_mapping` Jupyter Notebook in https://github.com/hyperspy/exspy-demos/tree/main/EELS. We'll be making elemental maps from the intensity of the model of the Cu-L$_3$ and Zn-L$_3$ components. The HAADF image will also be plotted, for comparison with the elemental distribution.\n",
    "\n",
    "For more information about the material system and how the results of this processing can be used, see the paper: https://doi.org/10.1016/j.cattod.2019.02.045.\n",
    "\n",
    "While this notebook focuses on plotting EELS data, it can equally well be used for plotting elemental maps from EDS data.\n",
    "\n",
    "---------\n",
    "\n",
    "* 2017/09/27: Initial version by Ida Hjorth\n",
    "* 2024/4/1: Update to work with HyperSpy 2.0, by Magnus Nord"
   ]
  },
  {
   "cell_type": "markdown",
   "id": "d13884f1-daf7-4f38-b4b5-e9bb79dfa4a2",
   "metadata": {},
   "source": [
    "## Importing the modules and loading the data"
   ]
  },
  {
   "cell_type": "code",
   "execution_count": null,
   "id": "eda16c2b-e87f-43b7-a221-18d93680bf2c",
   "metadata": {},
   "outputs": [],
   "source": [
    "%matplotlib widget\n",
    "import numpy as np\n",
    "import matplotlib.pyplot as plt\n",
    "import matplotlib.gridspec as gridspec\n",
    "from mpl_toolkits.axes_grid1.anchored_artists import AnchoredSizeBar\n",
    "import matplotlib.font_manager as fm\n",
    "import hyperspy.api as hs"
   ]
  },
  {
   "cell_type": "markdown",
   "id": "9365dc61-f611-4df9-a621-9ba544819a30",
   "metadata": {},
   "source": [
    "Loading the maps"
   ]
  },
  {
   "cell_type": "code",
   "execution_count": null,
   "id": "ed7a3d03-4562-46df-b0d8-19ff0f08c11c",
   "metadata": {},
   "outputs": [],
   "source": [
    "Cu_map = hs.load('Cu_map.hspy')\n",
    "Zn_map = hs.load('Zn_map.hspy')"
   ]
  },
  {
   "cell_type": "markdown",
   "id": "def5ec4c-2bb4-405d-9f9e-57bb27208fe2",
   "metadata": {},
   "source": [
    "Extracting the intensity of each element from the model.\n",
    "\n",
    "**Note:** as the components L$_3$, L$_2$ and L$_1$ are connected during the fitting procedure, we only need to visualize one of them to get a relative elemental map."
   ]
  },
  {
   "cell_type": "code",
   "execution_count": null,
   "id": "755148f7-21cb-4743-8949-ad64804bc197",
   "metadata": {},
   "outputs": [],
   "source": [
    "s_haadf = hs.load('../EELS/datasets/CuZn_HAADF.hspy')"
   ]
  },
  {
   "cell_type": "markdown",
   "id": "37495b03-bfcc-42b2-91d5-341228041298",
   "metadata": {},
   "source": [
    "`GridSpec` is a convenient function to use when creating several subplots. We create axes for the elemental maps, HAADF signal as well as the colorbars that will be used indicate the numerical intensity.\n",
    "\n",
    "For more information on how to use `GridSpec`, you can access the docstring by running `gridspec.GridSpec?` in a cell.  (Note the question mark)"
   ]
  },
  {
   "cell_type": "code",
   "execution_count": null,
   "id": "1a3f24a8-cf98-4818-8951-ef7d7ed778fc",
   "metadata": {},
   "outputs": [],
   "source": [
    "fig = plt.figure(figsize=(5.5, 2.7))\n",
    "gs = gridspec.GridSpec(30, 3)\n",
    "ax_cu = fig.add_subplot(gs[0:-2, 0])\n",
    "ax_zn = fig.add_subplot(gs[0:-2, 1])\n",
    "ax_haadf = fig.add_subplot(gs[0:-2, 2])\n",
    "cbar_cu =  fig.add_subplot(gs[-1, 0]) # Colorbars are much thinner than the map axes (1/30 of the height of the image)\n",
    "cbar_zn =  fig.add_subplot(gs[-1, 1])\n",
    "cbar_haadf =  fig.add_subplot(gs[-1, 2])"
   ]
  },
  {
   "cell_type": "markdown",
   "id": "6199df6d-c556-4344-ae9d-324b8e83b003",
   "metadata": {},
   "source": [
    "The signals are plotted using `imshow`."
   ]
  },
  {
   "cell_type": "code",
   "execution_count": null,
   "id": "ed605651-3e76-4b4e-8101-192dff6e2ae2",
   "metadata": {},
   "outputs": [],
   "source": [
    "cax_cu = ax_cu.imshow(\n",
    "    Cu_map.data,\n",
    "    interpolation='nearest',\n",
    "    extent=Cu_map.axes_manager.signal_extent,\n",
    ")"
   ]
  },
  {
   "cell_type": "code",
   "execution_count": null,
   "id": "0c3a89f0-afc8-4569-b80d-c95b6a0d643f",
   "metadata": {},
   "outputs": [],
   "source": [
    "cax_zn = ax_zn.imshow(\n",
    "    Zn_map.data,\n",
    "    interpolation='nearest',\n",
    "    extent=Zn_map.axes_manager.signal_extent,\n",
    ")"
   ]
  },
  {
   "cell_type": "markdown",
   "id": "3f97d5d1-92d3-4151-90a4-9a55fdfcca21",
   "metadata": {},
   "source": [
    "NumPy functions, such as `flipud`, `fliplr` and `rot90` can also be used to give the image the correct orientation. Here,`flipud` is used to give the HAADF image the same orientation as the elemental maps."
   ]
  },
  {
   "cell_type": "code",
   "execution_count": null,
   "id": "4f81e4a3-40a6-48b8-9fdf-1298c5bc1b6f",
   "metadata": {},
   "outputs": [],
   "source": [
    "ax_haadf.imshow(\n",
    "    s_haadf.data,\n",
    "    interpolation='nearest',\n",
    "    extent=s_haadf.axes_manager.signal_extent,\n",
    ")"
   ]
  },
  {
   "cell_type": "markdown",
   "id": "56783c18-da61-402b-b265-444cd1a72aae",
   "metadata": {},
   "source": [
    "Disable axis ticks"
   ]
  },
  {
   "cell_type": "code",
   "execution_count": null,
   "id": "7000b09f-1353-496a-b835-bb597b090dbd",
   "metadata": {},
   "outputs": [],
   "source": [
    "ax_haadf.set_xticks([])\n",
    "ax_cu.set_xticks([])\n",
    "ax_zn.set_xticks([])\n",
    "ax_zn.set_yticks([])\n",
    "ax_cu.set_yticks([])\n",
    "ax_haadf.set_yticks([])"
   ]
  },
  {
   "cell_type": "markdown",
   "id": "e9ef2c90-7468-4104-a672-9fe4ea4b6fae",
   "metadata": {},
   "source": [
    "Scalebars can be added by using `AnchoredSizeBar`. "
   ]
  },
  {
   "cell_type": "code",
   "execution_count": null,
   "id": "25cec634-3627-4f83-921e-ea4ca7f04bca",
   "metadata": {},
   "outputs": [],
   "source": [
    "fontprops = fm.FontProperties(size=18)\n",
    "scalebar0 = AnchoredSizeBar(\n",
    "        ax_cu.transData,\n",
    "        5, '5 nm', 2, # length of bar, label, loc\n",
    "        pad=0.1,\n",
    "        color='white',\n",
    "        frameon=False,\n",
    "        size_vertical=0.6,\n",
    "        fontproperties=fontprops,\n",
    ")\n",
    "scalebar1 = AnchoredSizeBar(\n",
    "        ax_cu.transData,\n",
    "        5, '5 nm', 2,\n",
    "        pad=0.1,\n",
    "        color='white',\n",
    "        frameon=False,\n",
    "        size_vertical=0.6,\n",
    "        fontproperties=fontprops,\n",
    ")\n",
    "scalebar2 = AnchoredSizeBar(\n",
    "        ax_cu.transData,\n",
    "        5, '5 nm', 2,\n",
    "        pad=0.1,\n",
    "        color='white',\n",
    "        frameon=False,\n",
    "        size_vertical=0.6,\n",
    "        fontproperties=fontprops,\n",
    ")\n",
    "ax_cu.add_artist(scalebar0)\n",
    "ax_zn.add_artist(scalebar1)\n",
    "ax_haadf.add_artist(scalebar2)"
   ]
  },
  {
   "cell_type": "markdown",
   "id": "5df80704-4383-410c-bd39-002379acc4d7",
   "metadata": {},
   "source": [
    "We add labels to indicate what is shown in each image."
   ]
  },
  {
   "cell_type": "code",
   "execution_count": null,
   "id": "2484e092-5b4c-4fde-8e1a-b1d13814f427",
   "metadata": {},
   "outputs": [],
   "source": [
    "ax_cu.text(0.05, 0.05, 'Cu', color='white', size=18, transform=ax_cu.transAxes)\n",
    "ax_zn.text(0.05, 0.05, 'Zn', color='white', size=18, transform=ax_zn.transAxes)\n",
    "ax_haadf.text(0.05, 0.05, 'HAADF', color='white', size=18, transform=ax_haadf.transAxes)"
   ]
  },
  {
   "cell_type": "markdown",
   "id": "d2af0ef8-6dcf-41b8-ab02-6d53a6495d93",
   "metadata": {},
   "source": [
    "Then colorbars are added. "
   ]
  },
  {
   "cell_type": "code",
   "execution_count": null,
   "id": "40daff98-1030-4b78-93b8-fed8883df16a",
   "metadata": {},
   "outputs": [],
   "source": [
    "cb_zn = fig.colorbar(ax_zn.images[0], cax=cbar_zn, extend='both', orientation='horizontal', label=\"Relative Zn, [a.u.]\")\n",
    "cb_cu = fig.colorbar(ax_cu.images[0], cax=cbar_cu,extend='both', orientation='horizontal', label=\"Relative Cu, [a.u.]\")\n",
    "cb_haadf = fig.colorbar(ax_haadf.images[0], cax=cbar_haadf, extend='both', orientation='horizontal', label=\"HAADF, [a.u.]\")"
   ]
  },
  {
   "cell_type": "code",
   "execution_count": null,
   "id": "581f1bbc-af96-4d9e-937b-71031b49ca88",
   "metadata": {},
   "outputs": [],
   "source": [
    "cb_cu.set_ticks([0, 5, 10, 15])\n",
    "cb_zn.set_ticks([0, 5, 10, 15, 20, 25])\n",
    "cb_haadf.set_ticks([0, 1000, 2000])"
   ]
  },
  {
   "cell_type": "markdown",
   "id": "eaef1306-e22d-4818-9860-01b965bad424",
   "metadata": {},
   "source": [
    "The color schemes `viridis`, `inferno`, `plasma` and `magma` are nice to use as they are grayscale compatible, perceptually uniform and colorblind-proof. For more info on these color maps, see https://www.youtube.com/watch?v=xAoljeRJ3lU"
   ]
  },
  {
   "cell_type": "code",
   "execution_count": null,
   "id": "46d2ff65-f2f0-4baa-a583-cb36fe8ccb8c",
   "metadata": {},
   "outputs": [],
   "source": [
    "cax_zn.set_clim(vmin=0, vmax=25)\n",
    "cax_zn.set_cmap('inferno')\n",
    "cax_cu.set_clim(vmin=0, vmax=15)\n",
    "cax_cu.set_cmap('viridis')"
   ]
  },
  {
   "cell_type": "code",
   "execution_count": null,
   "id": "27df97f9-4c5b-419d-a50e-08dd5904b70b",
   "metadata": {},
   "outputs": [],
   "source": [
    "fig.subplots_adjust(left=0, bottom=0.15, right=1, top=0.98)"
   ]
  },
  {
   "cell_type": "markdown",
   "id": "66203627-321a-42dc-ac21-3f9b42f4effb",
   "metadata": {},
   "source": [
    "Saving the matplotlib figure object as a png-file. Here, the resolution (via dots per inch, `dpi`) is set to a high value: 300. "
   ]
  },
  {
   "cell_type": "code",
   "execution_count": null,
   "id": "28c04b1a-d875-4402-b207-b07977f0e73b",
   "metadata": {},
   "outputs": [],
   "source": [
    "fig.savefig(\"elemental_map.png\", dpi=300)"
   ]
  },
  {
   "cell_type": "markdown",
   "id": "f48a5924-8da4-475b-8275-2797c50d4179",
   "metadata": {},
   "source": [
    "We can see the end result inside the Notebook by using `plt.show()`"
   ]
  },
  {
   "cell_type": "code",
   "execution_count": null,
   "id": "a9b55492-eff5-4bff-9711-3db145951245",
   "metadata": {},
   "outputs": [],
   "source": [
    "plt.show()"
   ]
  }
 ],
 "metadata": {
  "kernelspec": {
   "display_name": "Python 3 (ipykernel)",
   "language": "python",
   "name": "python3"
  },
  "language_info": {
   "codemirror_mode": {
    "name": "ipython",
    "version": 3
   },
   "file_extension": ".py",
   "mimetype": "text/x-python",
   "name": "python",
   "nbconvert_exporter": "python",
   "pygments_lexer": "ipython3",
   "version": "3.10.14"
  }
 },
 "nbformat": 4,
 "nbformat_minor": 5
}
