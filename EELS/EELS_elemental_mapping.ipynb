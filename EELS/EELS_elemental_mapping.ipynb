{
 "cells": [
  {
   "cell_type": "markdown",
   "metadata": {},
   "source": [
    "# Creating and plotting elemental EELS maps\n",
    "\n",
    "In this tutorial, elemental maps of copper and zinc will be created from electron energy loss spectra (EELS). The data is recorded using a sample of copper and zinc oxide deposited on carbon nanotubes. The particles are likely to be very small, and the carbon is not completely covered. In this sample, the ratio of Zn and Cu is 3:1, and approximately 80 wt% of the sample is carbon. Due to the small amount of copper and zinc, the signal strength is low. To improve the signal strength without lowering the spatial resolution, the spectra were recorded with a high energy dispersion, resulting in low energy resolution. This means that any fine structure is not visible.\n",
    "\n",
    "For more information about the material system and how the results of this processing can be used, see the paper: https://doi.org/10.1016/j.cattod.2019.02.045\n",
    "\n",
    "This notebook requires `HyperSpy` 2.0 or higher. It also requires `eXSpy` which is a library which contains all of HyperSpy's EELS and EDX functionality.\n",
    "\n",
    "The main objective is to show how the functionalities of HyperSpy and eXSpy can be used to create relative elemental maps from EEL spectra.\n",
    "\n"
   ]
  },
  {
   "cell_type": "markdown",
   "metadata": {
    "jp-MarkdownHeadingCollapsed": true
   },
   "source": [
    "### Changes\n",
    "\n",
    "* 2017/09/27: Initial version by Ida Hjorth\n",
    "* 2019/11/14: Update to HyperSpy 1.5, and minor improvements to text by Magnus Nord\n",
    "* 2024/3/16: Update to work with HyperSpy 2.0, by Magnus Nord"
   ]
  },
  {
   "cell_type": "markdown",
   "metadata": {},
   "source": [
    "### Table of contents"
   ]
  },
  {
   "cell_type": "markdown",
   "metadata": {},
   "source": [
    "1. <a href='#load'> Load data</a> \n",
    "2. <a href='#fitting'>Fitting Cu and Zn Hartree-Slater cross sections</a>\n",
    "3. <a href='#save_restore'>Saving and restoring the model</a>\n",
    "4. <a href='#plotting'>Creating elemental maps from the model</a>"
   ]
  },
  {
   "cell_type": "markdown",
   "metadata": {},
   "source": [
    "# <a id='load'></a>1. Load data"
   ]
  },
  {
   "cell_type": "code",
   "execution_count": null,
   "metadata": {},
   "outputs": [],
   "source": [
    "%matplotlib widget\n",
    "import numpy as np\n",
    "import hyperspy.api as hs"
   ]
  },
  {
   "cell_type": "code",
   "execution_count": null,
   "metadata": {},
   "outputs": [],
   "source": [
    "s_eels = hs.load('datasets/CuZn_EELS_mapping_tutorial.hspy')"
   ]
  },
  {
   "cell_type": "markdown",
   "metadata": {},
   "source": [
    "Because of the overlap of the Cu (around 930 eV) and Zn edges (around 1040 eV), it is very difficult to estimate background for the Zn edge. A solution to this problem is to fit the background and edges as shown in this notebook.\n",
    "\n",
    "Visualise the data using `plot()`, and navigate to a region where both edges are visible. For example position `(32, 14)`. Move the navigator in the `EELS Spectrum Image Navigator` either by:\n",
    "\n",
    "- left-click and drag the red \"box\" in the `EELS Spectrum Image Navigator`\n",
    "- select the `EELS Spectrum Image Navigator` window/figure and use the `Ctrl` + `Arrow` keys on your keyboard,\n",
    "- or hold the `Shift` key on your keyboard and left click on the location you want to navigate to.\n",
    "\n",
    "To compare two spectra from different positions, select either one of the figures and press the `E` key on your keyboard. This will add an extra blue navigator \"box\", which is moved by left-click + dragging it."
   ]
  },
  {
   "cell_type": "code",
   "execution_count": null,
   "metadata": {},
   "outputs": [],
   "source": [
    "s_eels.plot()"
   ]
  },
  {
   "cell_type": "markdown",
   "metadata": {},
   "source": [
    "# <a id='fitting'></a>2. Fitting Cu and Zn components to the spectrum"
   ]
  },
  {
   "cell_type": "markdown",
   "metadata": {},
   "source": [
    "In the model-based approach, the low-loss signal can be convolved with the high-loss signal such that the energy spread of the electron beam and plural scattering due to the bulk plasmon are taken into account. This will lead to a better fit of the model to the experimental data. In addition, the experimental zero loss peak can be used to precisely calibrate the energy scale. \n",
    "\n",
    "In this example the low-loss signal was not recorded. However, since the sample is fairly thin, the effect of plural scattering is negligible.\n",
    "\n",
    "------\n",
    "\n",
    "**Note**: this will download a set of open source **Generalised Oscillator Strengths (GOS)** , which was computed and packaged by Leonhard Segger, Giulio Guzzinati and Helmut Kohl. For more information about the GOS files, see the [Zenodo deposit](https://zenodo.org/doi/10.5281/zenodo.6599070). For more information about how these were computed, and the code used to compute them, see https://github.com/Br0Fi/goscalc.\n",
    "\n",
    "Now, we will make a model containing a power law background and the Cu and Zn cross sections. To do this, we first have to set the experimental parameters."
   ]
  },
  {
   "cell_type": "code",
   "execution_count": null,
   "metadata": {},
   "outputs": [],
   "source": [
    "s_eels.set_microscope_parameters(beam_energy=200, convergence_angle=13.33, collection_angle=55.28) \n",
    "s_eels.add_elements(('Cu', 'Zn')) \n",
    "m = s_eels.create_model()"
   ]
  },
  {
   "cell_type": "markdown",
   "metadata": {},
   "source": [
    "Both the power law background and core less edge components (`EELSCLEdge`) has automatically been added."
   ]
  },
  {
   "cell_type": "code",
   "execution_count": null,
   "metadata": {},
   "outputs": [],
   "source": [
    "m.components"
   ]
  },
  {
   "cell_type": "markdown",
   "metadata": {},
   "source": [
    "Due to the large intensity variations across the dataset, the different features are fitted one by one within limited energy ranges. After having run the fitting for the individual features, all of them will be fitted at the same time.\n",
    "\n",
    "Here, we use the `model.fit_component` method for doing the initial fitting of the individual features. It works by passing the component we want to fit, and the energy range where we want to do this fitting through the `signal_range` parameter. In addition, we set `only_current=False` to fit all the probe positions.\n",
    "\n",
    "**Tip:** you can use docstrings to learn how functions work. These are accessed by having a question mark behind the function, for example `m.fit_component?`. If you're using JupyterLab, you can also press the `Shift` + `Tab` keys on your keyboard while the function is selected in a code cell.\n",
    "\n",
    "We start with the power law component, and fit it from the start of the spectrum (700 eV) to right before the first (Cu) core loss edge (900 eV)."
   ]
  },
  {
   "cell_type": "code",
   "execution_count": null,
   "metadata": {},
   "outputs": [],
   "source": [
    "m.fit_component(m.components.PowerLaw, signal_range=(700, 900), only_current=False)"
   ]
  },
  {
   "cell_type": "markdown",
   "metadata": {},
   "source": [
    "Now, we visualise the model to see how well the fitting went.\n",
    "\n",
    "The model consist of several components, so we use `plot_components=True` to see the individual components. Here, the red dots are the experimental data, the blue line is the whole model, and the green line is the power law we just fitted. There are also several other components shown in the figure: the Cu and Zn core loss edges. When added, they start with an initial non-zero value, so don't worry that they currently do not fit very well with the data."
   ]
  },
  {
   "cell_type": "code",
   "execution_count": null,
   "metadata": {},
   "outputs": [],
   "source": [
    "m.plot(plot_components=True)"
   ]
  },
  {
   "cell_type": "markdown",
   "metadata": {},
   "source": [
    "Then we use `fit_component` again, to fit the first of the core loss edges: Cu. Here, we want the energy range which contains just power law (which we already fitted), and the Cu-L$_{2,3}$ edges. For example from 950 to 1000 eV. Again, we use `only_current=False` to fit all the probe positions."
   ]
  },
  {
   "cell_type": "code",
   "execution_count": null,
   "metadata": {},
   "outputs": [],
   "source": [
    "m.fit_component(m.components.Cu_L3, signal_range=(950, 1000), only_current=False)"
   ]
  },
  {
   "cell_type": "markdown",
   "metadata": {},
   "source": [
    "Then we repeat this for Zn-L$_{2,3}$, for signal range 1050 to 1150 eV."
   ]
  },
  {
   "cell_type": "code",
   "execution_count": null,
   "metadata": {},
   "outputs": [],
   "source": [
    "m.fit_component(m.components.Zn_L3, signal_range=(1050, 1150), only_current=False)"
   ]
  },
  {
   "cell_type": "markdown",
   "metadata": {},
   "source": [
    "Lastly, we force both the Cu- and Zn-edges to always have positive intensity, as negative composition is not very physical.\n",
    "\n",
    "This sets the lower bound for the intensity of these edges to 0."
   ]
  },
  {
   "cell_type": "code",
   "execution_count": null,
   "metadata": {},
   "outputs": [],
   "source": [
    "m.set_all_edges_intensities_positive()"
   ]
  },
  {
   "cell_type": "markdown",
   "metadata": {},
   "source": [
    "Finally, we fit all the components at the same time."
   ]
  },
  {
   "cell_type": "code",
   "execution_count": null,
   "metadata": {},
   "outputs": [],
   "source": [
    "m.multifit()"
   ]
  },
  {
   "cell_type": "markdown",
   "metadata": {},
   "source": [
    "Let's see the results. Go to the region around `(32, 14)`, where there clearly is copper or zinc of some kind."
   ]
  },
  {
   "cell_type": "code",
   "execution_count": null,
   "metadata": {},
   "outputs": [],
   "source": [
    "m.plot(plot_components=True)"
   ]
  },
  {
   "cell_type": "markdown",
   "metadata": {},
   "source": [
    "### Simple visualization"
   ]
  },
  {
   "cell_type": "markdown",
   "metadata": {},
   "source": [
    "Visualizing the intensity of the Cu and Zn edges. **Note**: as the L$_3$, L$_2$ and L$_1$ are connected in the fitting procedure, we only have to get one of them to visualize the relative amount of Cu or Zn."
   ]
  },
  {
   "cell_type": "code",
   "execution_count": null,
   "metadata": {},
   "outputs": [],
   "source": [
    "m.components.Zn_L3.intensity.plot()"
   ]
  },
  {
   "cell_type": "code",
   "execution_count": null,
   "metadata": {},
   "outputs": [],
   "source": [
    "m.components.Cu_L3.intensity.plot()"
   ]
  },
  {
   "cell_type": "markdown",
   "metadata": {},
   "source": [
    "To more easily compare them, use the `hs.plot.plot_images` function. To get an overlay, where the two intensities are shown with different colors in the same plot, use `overlay=True`."
   ]
  },
  {
   "cell_type": "code",
   "execution_count": null,
   "metadata": {},
   "outputs": [],
   "source": [
    "hs.plot.plot_images([m.components.Cu_L3.intensity.as_signal(), m.components.Zn_L3.intensity.as_signal()])"
   ]
  },
  {
   "cell_type": "markdown",
   "metadata": {},
   "source": [
    "# 3. <a id='save_restore'></a>Saving and restoring the models"
   ]
  },
  {
   "cell_type": "markdown",
   "metadata": {},
   "source": [
    "As the fitting process can be slow, saving the models can be a good idea. "
   ]
  },
  {
   "cell_type": "code",
   "execution_count": null,
   "metadata": {},
   "outputs": [],
   "source": [
    "m.save('model.hspy', overwrite=True)"
   ]
  },
  {
   "cell_type": "markdown",
   "metadata": {},
   "source": [
    "This results in a file called `model.hspy`, which can be loaded and restored."
   ]
  },
  {
   "cell_type": "code",
   "execution_count": null,
   "metadata": {},
   "outputs": [],
   "source": [
    "mr = hs.load('model.hspy')\n",
    "mr = mr.models.restore('a')"
   ]
  },
  {
   "cell_type": "code",
   "execution_count": null,
   "metadata": {},
   "outputs": [],
   "source": [
    "mr.plot()"
   ]
  },
  {
   "cell_type": "markdown",
   "metadata": {
    "collapsed": true,
    "jupyter": {
     "outputs_hidden": true
    }
   },
   "source": [
    "# 4. <a id='plotting'></a>Making publication quality elemental maps"
   ]
  },
  {
   "cell_type": "markdown",
   "metadata": {},
   "source": [
    "In this section, elemental maps will be plotted from the intensity of the model of the Cu-L$_3$ and Zn-L$_3$ components saved above. The HAADF image will also be plotted, for comparison with the elemental distribution.\n",
    "\n",
    "**Note:** as the components L$_3$, L$_2$ and L$_1$ are connected during the fitting procedure, we only need to visualize one of them to get a relative elemental map."
   ]
  },
  {
   "cell_type": "code",
   "execution_count": null,
   "metadata": {},
   "outputs": [],
   "source": [
    "import numpy as np\n",
    "import matplotlib.pyplot as plt\n",
    "import matplotlib.gridspec as gridspec\n",
    "from mpl_toolkits.axes_grid1.anchored_artists import AnchoredSizeBar\n",
    "import matplotlib.font_manager as fm"
   ]
  },
  {
   "cell_type": "code",
   "execution_count": null,
   "metadata": {},
   "outputs": [],
   "source": [
    "m = hs.load('model.hspy')\n",
    "mr = m.models.restore('a')"
   ]
  },
  {
   "cell_type": "code",
   "execution_count": null,
   "metadata": {},
   "outputs": [],
   "source": [
    "s_copper = mr.components.Cu_L3.intensity.as_signal()\n",
    "s_zinc = mr.components.Zn_L3.intensity.as_signal()\n",
    "s_haadf = hs.load('datasets/CuZn_HAADF.hspy').as_signal2D((0, 1))"
   ]
  },
  {
   "cell_type": "markdown",
   "metadata": {},
   "source": [
    "`GridSpec` is a convenient function to use when creating several subplots. We create axes for the elemental maps, HAADF signal as well as the colorbars that will be used indicate the numerical intensity.\n",
    "\n",
    "For more information on how to use `GridSpec`, you can access the docstring by running `gridspec.GridSpec?` in a cell.  (Note the question mark)"
   ]
  },
  {
   "cell_type": "code",
   "execution_count": null,
   "metadata": {},
   "outputs": [],
   "source": [
    "fig = plt.figure(figsize=(5.5, 2.7))\n",
    "gs = gridspec.GridSpec(30, 3)\n",
    "ax_cu = fig.add_subplot(gs[0:-2, 0])\n",
    "ax_zn = fig.add_subplot(gs[0:-2, 1])\n",
    "ax_haadf = fig.add_subplot(gs[0:-2, 2])\n",
    "cbar_cu =  fig.add_subplot(gs[-1, 0]) # Colorbars are much thinner than the map axes (1/30 of the height of the image)\n",
    "cbar_zn =  fig.add_subplot(gs[-1, 1])\n",
    "cbar_haadf =  fig.add_subplot(gs[-1, 2])"
   ]
  },
  {
   "cell_type": "markdown",
   "metadata": {},
   "source": [
    "The signals can be plotted by using `imshow`."
   ]
  },
  {
   "cell_type": "code",
   "execution_count": null,
   "metadata": {},
   "outputs": [],
   "source": [
    "cax_cu = ax_cu.imshow(\n",
    "    s_copper.data,\n",
    "    interpolation='nearest',\n",
    "    origin='lower',\n",
    "    extent=s_copper.axes_manager.signal_extent,\n",
    ")"
   ]
  },
  {
   "cell_type": "code",
   "execution_count": null,
   "metadata": {},
   "outputs": [],
   "source": [
    "cax_zn = ax_zn.imshow(\n",
    "    s_zinc.data,\n",
    "    interpolation='nearest',\n",
    "    origin='lower',\n",
    "    extent=s_zinc.axes_manager.signal_extent,\n",
    ")"
   ]
  },
  {
   "cell_type": "markdown",
   "metadata": {},
   "source": [
    "NumPy functions, such as `flipud`, `fliplr` and `rot90` can also be used to give the image the correct orientation. Here,`flipud` is used to give the HAADF image the same orientation as the elemental maps."
   ]
  },
  {
   "cell_type": "code",
   "execution_count": null,
   "metadata": {},
   "outputs": [],
   "source": [
    "ax_haadf.imshow(\n",
    "    np.flipud(s_haadf.data),\n",
    "    interpolation='nearest',\n",
    "    origin='upper',\n",
    "    extent=s_haadf.axes_manager.signal_extent,\n",
    ")"
   ]
  },
  {
   "cell_type": "markdown",
   "metadata": {},
   "source": [
    "Disable axis ticks"
   ]
  },
  {
   "cell_type": "code",
   "execution_count": null,
   "metadata": {},
   "outputs": [],
   "source": [
    "ax_haadf.set_xticks([])\n",
    "ax_cu.set_xticks([])\n",
    "ax_zn.set_xticks([])\n",
    "ax_zn.set_yticks([])\n",
    "ax_cu.set_yticks([])\n",
    "ax_haadf.set_yticks([])"
   ]
  },
  {
   "cell_type": "markdown",
   "metadata": {},
   "source": [
    "Scalebars can be added by using `AnchoredSizeBar`. "
   ]
  },
  {
   "cell_type": "code",
   "execution_count": null,
   "metadata": {},
   "outputs": [],
   "source": [
    "fontprops = fm.FontProperties(size=18)\n",
    "scalebar0 = AnchoredSizeBar(\n",
    "        ax_cu.transData,\n",
    "        5, '5 nm', 1, # length of bar, label, loc\n",
    "        pad=0.1,\n",
    "        color='white',\n",
    "        frameon=False,\n",
    "        size_vertical=0.6,\n",
    "        fontproperties=fontprops,\n",
    ")\n",
    "scalebar1 = AnchoredSizeBar(\n",
    "        ax_cu.transData,\n",
    "        5, '5 nm', 1,\n",
    "        pad=0.1,\n",
    "        color='white',\n",
    "        frameon=False,\n",
    "        size_vertical=0.6,\n",
    "        fontproperties=fontprops,\n",
    ")\n",
    "scalebar2 = AnchoredSizeBar(\n",
    "        ax_cu.transData,\n",
    "        5, '5 nm', 1,\n",
    "        pad=0.1,\n",
    "        color='white',\n",
    "        frameon=False,\n",
    "        size_vertical=0.6,\n",
    "        fontproperties=fontprops,\n",
    ")\n",
    "ax_cu.add_artist(scalebar0)\n",
    "ax_zn.add_artist(scalebar1)\n",
    "ax_haadf.add_artist(scalebar2)"
   ]
  },
  {
   "cell_type": "markdown",
   "metadata": {},
   "source": [
    "We add labels to indicate what is shown in each image."
   ]
  },
  {
   "cell_type": "code",
   "execution_count": null,
   "metadata": {},
   "outputs": [],
   "source": [
    "ax_cu.text(0.05, 0.05, 'Cu', color='white', size=18, transform=ax_cu.transAxes)\n",
    "ax_zn.text(0.05, 0.05, 'Zn', color='white', size=18, transform=ax_zn.transAxes)\n",
    "ax_haadf.text(0.05, 0.05, 'HAADF', color='white', size=18, transform=ax_haadf.transAxes)"
   ]
  },
  {
   "cell_type": "markdown",
   "metadata": {},
   "source": [
    "Then colorbars are added. "
   ]
  },
  {
   "cell_type": "code",
   "execution_count": null,
   "metadata": {},
   "outputs": [],
   "source": [
    "cb_zn = fig.colorbar(ax_zn.images[0], cax=cbar_zn, extend='both', orientation='horizontal', label=\"Relative Zn, [a.u.]\")\n",
    "cb_cu = fig.colorbar(ax_cu.images[0], cax=cbar_cu,extend='both', orientation='horizontal', label=\"Relative Cu, [a.u.]\")\n",
    "cb_haadf = fig.colorbar(ax_haadf.images[0], cax=cbar_haadf, extend='both', orientation='horizontal', label=\"HAADF, [a.u.]\")"
   ]
  },
  {
   "cell_type": "code",
   "execution_count": null,
   "metadata": {},
   "outputs": [],
   "source": [
    "cb_cu.set_ticks([0, 5, 10, 15])\n",
    "cb_zn.set_ticks([0, 5, 10, 15, 20, 25])\n",
    "cb_haadf.set_ticks([0, 1000, 2000])"
   ]
  },
  {
   "cell_type": "markdown",
   "metadata": {},
   "source": [
    "The color schemes `viridis`, `inferno`, `plasma` and `magma` are nice to use as they are grayscale compatible, perceptually uniform and colorblind-proof. For more info on these color maps, see https://www.youtube.com/watch?v=xAoljeRJ3lU"
   ]
  },
  {
   "cell_type": "code",
   "execution_count": null,
   "metadata": {},
   "outputs": [],
   "source": [
    "cax_zn.set_clim(vmin=0, vmax=25)\n",
    "cax_zn.set_cmap('inferno')\n",
    "cax_cu.set_clim(vmin=0, vmax=15)\n",
    "cax_cu.set_cmap('viridis')"
   ]
  },
  {
   "cell_type": "code",
   "execution_count": null,
   "metadata": {},
   "outputs": [],
   "source": [
    "fig.subplots_adjust(left=0, bottom=0.15, right=1, top=0.98)"
   ]
  },
  {
   "cell_type": "markdown",
   "metadata": {},
   "source": [
    "Saving the matplotlib figure object as a png-file. Here, the resolution (via dots per inch, `dpi`) is set to a high value: 300. "
   ]
  },
  {
   "cell_type": "code",
   "execution_count": null,
   "metadata": {},
   "outputs": [],
   "source": [
    "fig.savefig(\"elemental_map.png\", dpi=300)"
   ]
  },
  {
   "cell_type": "markdown",
   "metadata": {},
   "source": [
    "We can see the end result inside the Notebook by using `plt.show()`"
   ]
  },
  {
   "cell_type": "code",
   "execution_count": null,
   "metadata": {},
   "outputs": [],
   "source": [
    "plt.show()"
   ]
  }
 ],
 "metadata": {
  "kernelspec": {
   "display_name": "Python 3 (ipykernel)",
   "language": "python",
   "name": "python3"
  },
  "language_info": {
   "codemirror_mode": {
    "name": "ipython",
    "version": 3
   },
   "file_extension": ".py",
   "mimetype": "text/x-python",
   "name": "python",
   "nbconvert_exporter": "python",
   "pygments_lexer": "ipython3",
   "version": "3.11.8"
  }
 },
 "nbformat": 4,
 "nbformat_minor": 4
}
